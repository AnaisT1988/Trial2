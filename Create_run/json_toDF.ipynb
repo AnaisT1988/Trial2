{
 "cells": [
  {
   "cell_type": "code",
   "execution_count": 1,
   "metadata": {},
   "outputs": [],
   "source": [
    "import pandas as pd\n",
    "import json"
   ]
  },
  {
   "cell_type": "code",
   "execution_count": 69,
   "metadata": {},
   "outputs": [],
   "source": [
    "data=open('create_run.json',\"r\")"
   ]
  },
  {
   "cell_type": "code",
   "execution_count": 70,
   "metadata": {},
   "outputs": [],
   "source": [
    "with open(\"create_run.json\", \"r\") as f: arr = json.load(f)"
   ]
  },
  {
   "cell_type": "code",
   "execution_count": 81,
   "metadata": {},
   "outputs": [
    {
     "data": {
      "text/plain": [
       "{'NodeId': 0,\n",
       " 'TrialNumber': 0,\n",
       " 'ParameterValues': [{'ParameterId': 0, 'Value': 'string', 'Unit': 'None'}],\n",
       " 'Articles': [{'ArticleId': 0,\n",
       "   'Assemblies': [{'Id': 0,\n",
       "     'Sequence': 0,\n",
       "     'ArticleId': 0,\n",
       "     'ProductId': 0,\n",
       "     'Amount': 0,\n",
       "     'Unit': 'None',\n",
       "     'AssemblyInstructions': [{'AttributeDefinitionId': 0,\n",
       "       'AttributeDefinitionCstId': 'string',\n",
       "       'Value': {'Bool': True,\n",
       "        'Int': 0,\n",
       "        'Double': 0,\n",
       "        'String': 'string',\n",
       "        'DateTime': '2023-01-23T06:05:47.556Z',\n",
       "        'File': {'FileName': 'string',\n",
       "         'Path': 'string',\n",
       "         'MimeType': {'Description': 'string',\n",
       "          'ContentType': 'string',\n",
       "          'Extension': 'string'},\n",
       "         'ByteArray': [['string']]}},\n",
       "       'Unit': 'None'}]}],\n",
       "   'CarrierArticleId': 0}]}"
      ]
     },
     "execution_count": 81,
     "metadata": {},
     "output_type": "execute_result"
    }
   ],
   "source": [
    "arr['Experiments'][1]['Nodes'][0]"
   ]
  },
  {
   "cell_type": "code",
   "execution_count": 72,
   "metadata": {},
   "outputs": [
    {
     "name": "stdout",
     "output_type": "stream",
     "text": [
      "   Id ExternalId   Label Comment  PlatformId  WorkflowId  Priority  \\\n",
      "0   1        123  string  string           0           0         0   \n",
      "\n",
      "                                       RunAttributes  \\\n",
      "0  [{'AttributeDefinitionId': 0, 'AttributeDefini...   \n",
      "\n",
      "                                         Experiments  \n",
      "0  [{'Id': 1, 'Label': 'string', 'Comment': 'stri...  \n"
     ]
    }
   ],
   "source": [
    "print(pd.json_normalize(arr))"
   ]
  },
  {
   "cell_type": "code",
   "execution_count": 73,
   "metadata": {},
   "outputs": [],
   "source": [
    "df = pd.DataFrame.from_dict(pd.json_normalize(arr,'Experiments'), orient='columns')"
   ]
  },
  {
   "cell_type": "code",
   "execution_count": 74,
   "metadata": {},
   "outputs": [
    {
     "name": "stdout",
     "output_type": "stream",
     "text": [
      "<class 'pandas.core.frame.DataFrame'>\n",
      "RangeIndex: 2 entries, 0 to 1\n",
      "Data columns (total 8 columns):\n",
      " #   Column      Non-Null Count  Dtype \n",
      "---  ------      --------------  ----- \n",
      " 0   Id          2 non-null      int64 \n",
      " 1   Label       2 non-null      object\n",
      " 2   Comment     2 non-null      object\n",
      " 3   ExternalId  2 non-null      object\n",
      " 4   Priority    2 non-null      int64 \n",
      " 5   Author      2 non-null      object\n",
      " 6   Nodes       2 non-null      object\n",
      " 7   Products    2 non-null      object\n",
      "dtypes: int64(2), object(6)\n",
      "memory usage: 256.0+ bytes\n"
     ]
    }
   ],
   "source": [
    "df.info()"
   ]
  },
  {
   "cell_type": "code",
   "execution_count": null,
   "metadata": {},
   "outputs": [],
   "source": []
  }
 ],
 "metadata": {
  "kernelspec": {
   "display_name": "Chemspeed",
   "language": "python",
   "name": "python3"
  },
  "language_info": {
   "codemirror_mode": {
    "name": "ipython",
    "version": 3
   },
   "file_extension": ".py",
   "mimetype": "text/x-python",
   "name": "python",
   "nbconvert_exporter": "python",
   "pygments_lexer": "ipython3",
   "version": "3.9.15"
  },
  "orig_nbformat": 4,
  "vscode": {
   "interpreter": {
    "hash": "dfe03e970ca2a47b458f203d06f18e3ea77757c1a31738a2a02e5e162acd1ea0"
   }
  }
 },
 "nbformat": 4,
 "nbformat_minor": 2
}
